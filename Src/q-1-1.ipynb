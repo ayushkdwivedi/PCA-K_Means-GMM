{
 "cells": [
  {
   "cell_type": "code",
   "execution_count": 13,
   "metadata": {},
   "outputs": [],
   "source": [
    "import numpy as np\n",
    "import pandas as pd\n",
    "import matplotlib.pyplot as plt\n",
    "import seaborn as sns\n",
    "from sklearn.preprocessing import StandardScaler\n",
    "%matplotlib inline\n",
    "import warnings\n",
    "warnings.filterwarnings(\"ignore\")"
   ]
  },
  {
   "cell_type": "code",
   "execution_count": 14,
   "metadata": {},
   "outputs": [],
   "source": [
    "def loadData(data):\n",
    "    df = pd.read_csv(data)\n",
    "\n",
    "    x = df.iloc[:,:-1]\n",
    "    y = df.iloc[:,-1]\n",
    "    \n",
    "    return x,y"
   ]
  },
  {
   "cell_type": "code",
   "execution_count": 15,
   "metadata": {},
   "outputs": [],
   "source": [
    "def PCA(x):\n",
    "    \n",
    "    print('PCA Started !')\n",
    "    print('')\n",
    "    \n",
    "    mu = np.mean(x, axis=0)\n",
    "    cov = ( ((x - mu).T).dot(x - mu) ) / (x.shape[0]-1)\n",
    "#     print('Covariance matrix \\n%s' %cov)\n",
    "\n",
    "    eigenVal, eigenVec = np.linalg.eig(cov)\n",
    "#     print('Eigenvectors \\n%s' %eigenVec)\n",
    "#     print('\\nEigenvalues \\n%s' %eigenVal)\n",
    "    \n",
    "    eList = []\n",
    "    for i in range(len(eigenVal)):\n",
    "        eList.append((np.abs(eigenVal[i]), eigenVec[:,i]))\n",
    "#     print(eList)\n",
    "\n",
    "    eList.sort(key=lambda x:x[0])\n",
    "    eList.reverse()\n",
    "\n",
    "#     print('Eigenvalues in descending order:')\n",
    "#     for i in eList:\n",
    "#         print(i[0])\n",
    "    \n",
    "    eSum = sum(eigenVal)\n",
    "    eVar = []\n",
    "    for i in sorted(eigenVal, reverse=True):\n",
    "        eVar.append((i / eSum)*100)\n",
    "    \n",
    "    eVar = np.abs(np.cumsum(eVar))\n",
    "#     print(eVar)\n",
    "\n",
    "    # Calculating the index of first eigen value, upto which error is <10%\n",
    "    index = next(x[0] for x in enumerate(eVar) if x[1] > 90)\n",
    "    print('Number of eigen values selected to maintain threshold at 10% is:',index+1)\n",
    "    print('')\n",
    "    \n",
    "    w = eList[0][1].reshape(len(eigenVec),1)\n",
    "    for i in range(1,index+1):\n",
    "        w = np.hstack((w, eList[i][1].reshape(len(eigenVec),1))) #Concatinating Eigen Vectors column wise to form W matrix\n",
    "#     print('Matrix W:\\n', w)\n",
    "#     print(w.shape)\n",
    "\n",
    "    x_reduced = x.dot(w)\n",
    "    print('PCA Reduced Data')\n",
    "    print('')\n",
    "    print(x_reduced)\n",
    "    print('')\n",
    "    print('PCA Completed !')\n",
    "    \n",
    "    return x_reduced\n",
    "    "
   ]
  },
  {
   "cell_type": "code",
   "execution_count": 16,
   "metadata": {},
   "outputs": [
    {
     "name": "stdout",
     "output_type": "stream",
     "text": [
      "PCA Started !\n",
      "\n",
      "Number of eigen values selected to maintain threshold at 10% is: 14\n",
      "\n",
      "PCA Reduced Data\n",
      "\n",
      "[[-2.50946520e+00  9.52118043e-01  8.05755168e-02 ...  8.50312294e-02\n",
      "  -4.78761528e-01  3.80057517e-01]\n",
      " [ 1.19325993e+00 -5.59820431e+00  2.70795585e-01 ...  6.43676015e-02\n",
      "   4.30117879e-01  2.64015116e-01]\n",
      " [-2.44710014e+00  9.08939709e-01  6.03192180e-02 ...  5.04823140e-02\n",
      "  -7.54360905e-01  4.29615250e-01]\n",
      " ...\n",
      " [-2.14676535e-01 -3.09877590e-01 -1.37272986e+01 ...  1.72825356e+01\n",
      "  -1.61696242e+00  1.79863104e+00]\n",
      " [-3.46663135e+00  5.46446031e-01 -7.44319096e-02 ...  3.55261207e-01\n",
      "   4.57109427e-01 -7.13572892e-01]\n",
      " [ 4.01832089e+00  1.12480793e+00 -6.01524597e-02 ... -3.89962407e-03\n",
      "   2.80523132e-01  2.18831703e-01]]\n",
      "\n",
      "PCA Completed !\n"
     ]
    }
   ],
   "source": [
    "if __name__ == '__main__':\n",
    "    \n",
    "    data = '../Dataset/intrusion_detection/data.csv'\n",
    "    x,y = loadData(data)\n",
    "#     x = x.iloc[:10,:]\n",
    "    \n",
    "\n",
    "    x = StandardScaler().fit_transform(x)\n",
    "    x_reduced = PCA(x)\n",
    "#     print(x_reduced)\n",
    "#     x_reduced = pd.DataFrame(x_reduced)"
   ]
  },
  {
   "cell_type": "code",
   "execution_count": null,
   "metadata": {},
   "outputs": [],
   "source": []
  }
 ],
 "metadata": {
  "kernelspec": {
   "display_name": "Python 3",
   "language": "python",
   "name": "python3"
  },
  "language_info": {
   "codemirror_mode": {
    "name": "ipython",
    "version": 3
   },
   "file_extension": ".py",
   "mimetype": "text/x-python",
   "name": "python",
   "nbconvert_exporter": "python",
   "pygments_lexer": "ipython3",
   "version": "3.7.1"
  }
 },
 "nbformat": 4,
 "nbformat_minor": 2
}
