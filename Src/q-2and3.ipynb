{
 "cells": [
  {
   "cell_type": "code",
   "execution_count": 9,
   "metadata": {},
   "outputs": [],
   "source": [
    "import pandas as pd\n",
    "import numpy as np\n",
    "from sklearn import preprocessing\n",
    "from sklearn.model_selection import train_test_split\n",
    "from sklearn.neighbors import KNeighborsClassifier\n",
    "from sklearn.metrics import recall_score, precision_score\n",
    "import matplotlib.pyplot as plt"
   ]
  },
  {
   "cell_type": "code",
   "execution_count": 10,
   "metadata": {},
   "outputs": [],
   "source": [
    "def sigmoid(x):\n",
    "    return 1/(1 + np.exp(-x))\n",
    "\n",
    "def loss(h, y):\n",
    "    return (-y * np.log(h) - (1 - y) * np.log(1 - h)).mean()\n",
    "\n",
    "def add_intercept(X):\n",
    "    intercept = np.zeros((X.shape[0], 1))\n",
    "    X = np.concatenate((intercept, X), axis=1)\n",
    "    return X\n",
    "\n",
    "def logreg_fit(X, y, lr, num_iter):\n",
    "\n",
    "    theta = np.zeros(X.shape[1])\n",
    "\n",
    "    for i in range(num_iter):\n",
    "        z = np.dot(X, theta)\n",
    "        ypred = sigmoid(z)\n",
    "        gradient = np.dot(X.T, (ypred - y))/y.size\n",
    "        theta = theta - lr * gradient\n",
    "\n",
    "        z = np.dot(X, theta)\n",
    "        ypred = sigmoid(z)\n",
    "        calc_loss = loss(ypred, y)\n",
    "    \n",
    "    return theta\n",
    "\n",
    "def predict_logreg(X, theta):\n",
    "    prob = sigmoid(np.dot(X, theta))\n",
    "    prob[prob >= 0.6] = 1\n",
    "    prob[prob < 0.6] = 0\n",
    "    return prob"
   ]
  },
  {
   "cell_type": "code",
   "execution_count": 11,
   "metadata": {},
   "outputs": [
    {
     "name": "stdout",
     "output_type": "stream",
     "text": [
      "Logistic Regression Accuracy for threshold 0.5 is: 92.92035398230088\n",
      "Logistic Regression Accuracy for threshold 0.55 is: 90.2654867256637\n",
      "Logistic Regression Accuracy for threshold 0.6 is: 83.1858407079646\n",
      "Logistic Regression Accuracy for threshold 0.65 is: 70.79646017699115\n",
      "Logistic Regression Accuracy for threshold 0.7 is: 70.79646017699115\n"
     ]
    },
    {
     "data": {
      "image/png": "[encoded data removed]",
      "text/plain": [
       "<Figure size 432x288 with 1 Axes>"
      ]
     },
     "metadata": {
      "needs_background": "light"
     },
     "output_type": "display_data"
    },
    {
     "name": "stdout",
     "output_type": "stream",
     "text": [
      "KNN accuracy is: 81.41592920353983\n"
     ]
    }
   ],
   "source": [
    "if __name__ == '__main__':\n",
    "\n",
    "    THRESHOLD = [0.5, 0.55, 0.6, 0.65, 0.7]\n",
    "    precision = []\n",
    "    recall= []\n",
    "\n",
    "    for thresh in THRESHOLD:\n",
    "        data = pd.read_csv('../Dataset/AdmissionDataset/data.csv', skiprows=1, delimiter=',', header=None)\n",
    "        data = data.drop(labels=[0], axis=1)\n",
    "\n",
    "        data[8].values[data[8].values >= thresh] = 1\n",
    "        data[8].values[data[8].values < thresh] = 0\n",
    "\n",
    "        data = data.values\n",
    "\n",
    "        X = data[:, :-1]\n",
    "        X = preprocessing.normalize(X)\n",
    "        X = add_intercept(X)\n",
    "        y = data[:, -1]\n",
    "\n",
    "        X_train, X_test, y_train, y_test = train_test_split(X, y, test_size=0.25, shuffle=True)\n",
    "\n",
    "        theta = logreg_fit(X, y, lr=0.1, num_iter=10000)\n",
    "        preds = predict_logreg(X_test, theta)\n",
    "        acc = len([1 for yhat, ytrue in zip(preds, y_test) if yhat == ytrue])/len(y_test)\n",
    "        print(\"Logistic Regression Accuracy for threshold\", thresh, \"is:\", acc*100)\n",
    "        precision.append(precision_score(y_test, preds))\n",
    "        recall.append(recall_score(y_test, preds))\n",
    "    \n",
    "    plt.plot(THRESHOLD, precision, label='Precision')\n",
    "    plt.plot(THRESHOLD, recall, label='Recall')\n",
    "    plt.xlabel('Threshold')\n",
    "    plt.title('Threshold Vs Precision & Recall Comparison')\n",
    "    plt.legend()\n",
    "    plt.show()\n",
    "\n",
    "    neigh = KNeighborsClassifier(n_neighbors=3)\n",
    "    neigh.fit(X_train, y_train)\n",
    "    acc_knn = neigh.score(X_test, y_test)\n",
    "    print(\"KNN accuracy is:\", acc_knn*100)"
   ]
  },
  {
   "cell_type": "code",
   "execution_count": null,
   "metadata": {},
   "outputs": [],
   "source": []
  },
  {
   "cell_type": "code",
   "execution_count": null,
   "metadata": {},
   "outputs": [],
   "source": []
  }
 ],
 "metadata": {
  "kernelspec": {
   "display_name": "Python 3",
   "language": "python",
   "name": "python3"
  },
  "language_info": {
   "codemirror_mode": {
    "name": "ipython",
    "version": 3
   },
   "file_extension": ".py",
   "mimetype": "text/x-python",
   "name": "python",
   "nbconvert_exporter": "python",
   "pygments_lexer": "ipython3",
   "version": "3.7.1"
  }
 },
 "nbformat": 4,
 "nbformat_minor": 2
}
