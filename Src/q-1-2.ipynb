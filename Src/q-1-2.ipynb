{
 "cells": [
  {
   "cell_type": "code",
   "execution_count": 32,
   "metadata": {},
   "outputs": [],
   "source": [
    "import numpy as np\n",
    "import pandas as pd\n",
    "import matplotlib.pyplot as plt\n",
    "import seaborn as sns\n",
    "from sklearn.preprocessing import StandardScaler\n",
    "%matplotlib inline\n",
    "import warnings\n",
    "from copy import deepcopy\n",
    "warnings.filterwarnings(\"ignore\")"
   ]
  },
  {
   "cell_type": "code",
   "execution_count": 33,
   "metadata": {},
   "outputs": [],
   "source": [
    "def loadData(data):\n",
    "    df = pd.read_csv(data)\n",
    "\n",
    "    # print(df.shape[1])\n",
    "\n",
    "    x = df.iloc[:,:-1]\n",
    "    y = df.iloc[:,-1]\n",
    "    \n",
    "    return x,y"
   ]
  },
  {
   "cell_type": "code",
   "execution_count": 34,
   "metadata": {},
   "outputs": [],
   "source": [
    "def cat2num(y):\n",
    "    for i in range(len(y)):\n",
    "        if y[i] == 'dos':\n",
    "            y[i] = 0\n",
    "        elif y[i] == 'normal':\n",
    "            y[i] = 1\n",
    "        elif y[i] == 'probe':\n",
    "            y[i] = 2\n",
    "        elif y[i] == 'r2l':\n",
    "            y[i] = 3\n",
    "        else:\n",
    "            y[i] = 4\n",
    "    return y"
   ]
  },
  {
   "cell_type": "code",
   "execution_count": 35,
   "metadata": {},
   "outputs": [],
   "source": [
    "def PCA(x,D):\n",
    "    \n",
    "    mu = np.mean(x, axis=0)\n",
    "    cov = ( ((x - mu).T).dot(x - mu) ) / (x.shape[0]-1)\n",
    "#     print('Covariance matrix \\n%s' %cov)\n",
    "\n",
    "    eigenVal, eigenVec = np.linalg.eig(cov)\n",
    "#     print('Eigenvectors \\n%s' %eigenVec)\n",
    "#     print('\\nEigenvalues \\n%s' %eigenVal)\n",
    "    \n",
    "    eList = []\n",
    "    for i in range(len(eigenVal)):\n",
    "        eList.append((np.abs(eigenVal[i]), eigenVec[:,i]))\n",
    "#     print(eList)\n",
    "\n",
    "    eList.sort(key=lambda x:x[0])\n",
    "    eList.reverse()\n",
    "\n",
    "#     print('Eigenvalues in descending order:')\n",
    "#     for i in eList:\n",
    "#         print(i[0])\n",
    "    \n",
    "    eSum = sum(eigenVal)\n",
    "    eVar = []\n",
    "    for i in sorted(eigenVal, reverse=True):\n",
    "        eVar.append((i / eSum)*100)\n",
    "    \n",
    "    eVar = np.abs(np.cumsum(eVar))\n",
    "#     print(eVar)\n",
    "\n",
    "    # Calculating the index of first eigen value, upto which error is <10%\n",
    "    if D == 1:\n",
    "        index = next(x[0] for x in enumerate(eVar) if x[1] > 90)\n",
    "    else:\n",
    "        index = 1\n",
    "    print('Number of eigen values selected to maintain threshold at 10% is:',index+1)\n",
    "    print('')\n",
    "    \n",
    "    w = eList[0][1].reshape(len(eigenVec),1)\n",
    "    for i in range(1,index+1):\n",
    "        w = np.hstack((w, eList[i][1].reshape(len(eigenVec),1))) #Concatinating Eigen Vectors column wise to form W matrix\n",
    "#     print('Matrix W:\\n', w)\n",
    "#     print(w.shape)\n",
    "\n",
    "    x_reduced = x.dot(w)\n",
    "    print('PCA Reduced Data')\n",
    "    print('')\n",
    "    print(x_reduced)\n",
    "    print('')\n",
    "    \n",
    "    return x_reduced\n",
    "    "
   ]
  },
  {
   "cell_type": "code",
   "execution_count": 36,
   "metadata": {},
   "outputs": [],
   "source": [
    "def dist(a, b):\n",
    "    return np.linalg.norm(a - b, axis=1)"
   ]
  },
  {
   "cell_type": "code",
   "execution_count": 37,
   "metadata": {},
   "outputs": [],
   "source": [
    "def cal_purity(labels,y):\n",
    "    cnf_matrix = np.zeros((5,5))\n",
    "    for i in range(len(y)):\n",
    "                cnf_matrix[int(labels[i]),y[i]] +=1 \n",
    "    num = 0\n",
    "    for i in range(5):\n",
    "        num += np.max(cnf_matrix[i]) \n",
    "    return (num/len(y))"
   ]
  },
  {
   "cell_type": "code",
   "execution_count": 38,
   "metadata": {},
   "outputs": [],
   "source": [
    "def kmeans(x_reduced,y,k,D):\n",
    "    \n",
    "    centroid= np.random.randint(0, np.max(x_reduced), size=k)\n",
    "    centroid = centroid.reshape(k,1)\n",
    "    for i in range (1,x_reduced.shape[1]):    \n",
    "        centroid_i = np.random.randint(0, np.max(x_reduced), size=k)  #Generate random values between 0 and max(x)-20 of k dimention\n",
    "        centroid_i = centroid_i.reshape(k,1)\n",
    "        centroid = np.hstack((centroid,centroid_i))\n",
    "        \n",
    "    print(\"Clustering Started !!!\")\n",
    "    print('')\n",
    "    print(\"Initial Centroids Set to:\")\n",
    "    print(centroid)\n",
    "    print('')\n",
    "\n",
    "    centroid_old = np.zeros(centroid.shape)\n",
    "    clusters = np.zeros(len(x_reduced))\n",
    "    error_dist = dist(centroid, centroid_old)    \n",
    "\n",
    "    while np.count_nonzero(error_dist) != 0:  #Iterate until there is no change in centroid position\n",
    "        \n",
    "        for i in range(len(x_reduced)):  # Labelling each point w.r.t its nearest cluster\n",
    "            distances = dist(x_reduced[i], centroid)\n",
    "            cluster = np.argmin(distances)\n",
    "            clusters[i] = cluster\n",
    "        \n",
    "        centroid_old = deepcopy(centroid)\n",
    "        for i in range(k): #New centroid will be the average of the distances\n",
    "            points = [x_reduced[j] for j in range(len(x_reduced)) if clusters[j] == i]  #All the points which are under ith cluster as per current clustering\n",
    "            centroid[i] = np.mean(points, axis=0)\n",
    "        error_dist = dist(centroid, centroid_old)\n",
    "        print('Distance moved by Centroids in next interation')\n",
    "        print(error_dist)\n",
    "        print('')\n",
    "    print('Clustering Completed !!!')\n",
    "    print('')\n",
    "\n",
    "    if D == 0: \n",
    "        color=['cyan','magenta','red','blue','green']\n",
    "        labels=['cluster1','cluster2','cluster3','cluster4','cluster5']\n",
    "        for i in range(k):\n",
    "            points = np.array([x_reduced[j] for j in range(len(x_reduced)) if clusters[j] == i])\n",
    "    #         print('Points in Cluster: ',i)\n",
    "    #         print(points)\n",
    "            if points.size != 0:\n",
    "                plt.scatter(points[:,0],points[:,1],c=color[i],label=labels[i])\n",
    "    #     plt.scatter(centroid[:,0],centroid[:,1],s=300,c='y',label='Centroids')\n",
    "        plt.title('Clusters of Network Attack after reducing data to 2-D using PCA')\n",
    "        plt.xlabel('Attribte 1')\n",
    "        plt.ylabel('Attribute 2')\n",
    "        plt.legend()\n",
    "        plt.show()\n",
    "    return clusters"
   ]
  },
  {
   "cell_type": "code",
   "execution_count": 39,
   "metadata": {},
   "outputs": [
    {
     "name": "stdout",
     "output_type": "stream",
     "text": [
      "Doing Clustering by selecting reduced number of dimentions in PCA as per threshold of 10%\n",
      "\n",
      "Number of eigen values selected to maintain threshold at 10% is: 14\n",
      "\n",
      "PCA Reduced Data\n",
      "\n",
      "[[-2.50946520e+00  9.52118043e-01  8.05755168e-02 ...  8.50312294e-02\n",
      "  -4.78761528e-01  3.80057517e-01]\n",
      " [ 1.19325993e+00 -5.59820431e+00  2.70795585e-01 ...  6.43676015e-02\n",
      "   4.30117879e-01  2.64015116e-01]\n",
      " [-2.44710014e+00  9.08939709e-01  6.03192180e-02 ...  5.04823140e-02\n",
      "  -7.54360905e-01  4.29615250e-01]\n",
      " ...\n",
      " [-2.14676535e-01 -3.09877590e-01 -1.37272986e+01 ...  1.72825356e+01\n",
      "  -1.61696242e+00  1.79863104e+00]\n",
      " [-3.46663135e+00  5.46446031e-01 -7.44319096e-02 ...  3.55261207e-01\n",
      "   4.57109427e-01 -7.13572892e-01]\n",
      " [ 4.01832089e+00  1.12480793e+00 -6.01524597e-02 ... -3.89962407e-03\n",
      "   2.80523132e-01  2.18831703e-01]]\n",
      "\n",
      "Clustering Started !!!\n",
      "\n",
      "Initial Centroids Set to:\n",
      "[[ 9 23 33 23 39 39 28 28 43 49 31 51 16 15]\n",
      " [30 13 11 37  7 26 32 35 26 35 11 14 24 28]\n",
      " [22  2 35 40 51 51  7 48 52 12 12 25 27 32]\n",
      " [49 43 11 30 41 16 26  2  8 25 21 34  8  9]\n",
      " [17 15 41 34  6 27 50 23 44 40 36 15 29 10]]\n",
      "\n",
      "Distance moved by Centroids in next interation\n",
      "[8.03514794e+09 9.54515584e+01 8.03514794e+09 1.30165280e+02\n",
      " 8.03514795e+09]\n",
      "\n",
      "Distance moved by Centroids in next interation\n",
      "[0. 0. 0. 0. 0.]\n",
      "\n",
      "Clustering Completed !!!\n",
      "\n",
      "Purity while reducing data as per threshold:  0.5346827746219698\n",
      "\n",
      "\n",
      "Doing Clustering by selecting reduced number of dimentions in PCA as 2 for getting plots\n",
      "\n",
      "Number of eigen values selected to maintain threshold at 10% is: 2\n",
      "\n",
      "PCA Reduced Data\n",
      "\n",
      "[[-2.5094652   0.95211804]\n",
      " [ 1.19325993 -5.59820431]\n",
      " [-2.44710014  0.90893971]\n",
      " ...\n",
      " [-0.21467653 -0.30987759]\n",
      " [-3.46663135  0.54644603]\n",
      " [ 4.01832089  1.12480793]]\n",
      "\n",
      "Clustering Started !!!\n",
      "\n",
      "Initial Centroids Set to:\n",
      "[[2 0]\n",
      " [2 3]\n",
      " [3 1]\n",
      " [2 1]\n",
      " [2 3]]\n",
      "\n",
      "Distance moved by Centroids in next interation\n",
      "[2.82842712e+00 3.03700050e+09 0.00000000e+00 4.12310563e+00\n",
      " 3.03700050e+09]\n",
      "\n",
      "Distance moved by Centroids in next interation\n",
      "[2. 0. 0. 1. 0.]\n",
      "\n",
      "Distance moved by Centroids in next interation\n",
      "[1. 0. 0. 0. 0.]\n",
      "\n",
      "Distance moved by Centroids in next interation\n",
      "[0. 0. 0. 0. 0.]\n",
      "\n",
      "Clustering Completed !!!\n",
      "\n"
     ]
    },
    {
     "data": {
      "image/png": "[encoded data removed]",
      "text/plain": [
       "<Figure size 432x288 with 1 Axes>"
      ]
     },
     "metadata": {
      "needs_background": "light"
     },
     "output_type": "display_data"
    },
    {
     "name": "stdout",
     "output_type": "stream",
     "text": [
      "\n",
      "Purity while reducing data as per threshold:  0.837747019761581\n"
     ]
    }
   ],
   "source": [
    "if __name__ == '__main__':\n",
    "    \n",
    "    data = '../Dataset/intrusion_detection/data.csv'\n",
    "    x,y = loadData(data)\n",
    "    y = cat2num(y)\n",
    "    x = StandardScaler().fit_transform(x)\n",
    "    \n",
    "    print('Doing Clustering by selecting reduced number of dimentions in PCA as per threshold of 10%')\n",
    "    print('')\n",
    "    x_reduced = PCA(x,1)    \n",
    "    clusters1 = kmeans(x_reduced,y,5,1)\n",
    "    purity1 = cal_purity(clusters1,y)\n",
    "    print('Purity while reducing data as per threshold: ', purity1)\n",
    "\n",
    "    print('')\n",
    "    print('')\n",
    "    \n",
    "    print('Doing Clustering by selecting reduced number of dimentions in PCA as 2 for getting plots')\n",
    "    print('')\n",
    "    x_reduced = PCA(x,0)    \n",
    "    clusters2 = kmeans(x_reduced,y,5,0)\n",
    "    purity2 = cal_purity(clusters2,y)\n",
    "    print('')\n",
    "    print('Purity while reducing data as per threshold: ', purity2)"
   ]
  },
  {
   "cell_type": "code",
   "execution_count": 41,
   "metadata": {},
   "outputs": [
    {
     "name": "stdout",
     "output_type": "stream",
     "text": [
      "(24998, 2)\n"
     ]
    }
   ],
   "source": [
    "print(x_reduced.shape)"
   ]
  },
  {
   "attachments": {
    "index.png": {
     "image/png": "[encoded data removed]"
    }
   },
   "cell_type": "markdown",
   "metadata": {},
   "source": [
    "![index.png](attachment:index.png)"
   ]
  }
 ],
 "metadata": {
  "kernelspec": {
   "display_name": "Python 3",
   "language": "python",
   "name": "python3"
  },
  "language_info": {
   "codemirror_mode": {
    "name": "ipython",
    "version": 3
   },
   "file_extension": ".py",
   "mimetype": "text/x-python",
   "name": "python",
   "nbconvert_exporter": "python",
   "pygments_lexer": "ipython3",
   "version": "3.7.1"
  }
 },
 "nbformat": 4,
 "nbformat_minor": 2
}
